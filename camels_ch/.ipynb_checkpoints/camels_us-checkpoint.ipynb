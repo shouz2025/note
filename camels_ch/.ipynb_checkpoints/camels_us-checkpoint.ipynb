{
 "cells": [
  {
   "cell_type": "markdown",
   "id": "9600291a-f2ec-4aca-8e1c-31e59812af36",
   "metadata": {},
   "source": [
    "# Camels数据\n",
    "\n",
    "### 文件目录\n",
    "```dir\n",
    "camels_us\n",
    "  ├─basin_set_full_res  #整体合并671个流域的shp文件\n",
    "  ├─basin_timeseries_v1p2_metForcing_obsFlow\n",
    "  │  ├─basin_dataset_public   #0B\n",
    "  │  │  └─basin_mean_forcing\n",
    "  │  │      ├─daymet  #18个空文件夹\n",
    "  │  │      ├─maurer  #18个空文件夹\n",
    "  │  │      ├─nldas   #18个空文件夹\n",
    "  │  │      └─v1p15   \n",
    "  │  │          ├─daymet  #18个空文件夹\n",
    "  │  │          └─nldas   #18个空文件夹\n",
    "  │  └─basin_dataset_public_v1p2   \n",
    "  │      ├─basin_mean_forcing  #1.34GB\n",
    "  │      │  ├─daymet\n",
    "  │      │  ├─maurer\n",
    "  │      │  └─nldas\n",
    "  │      ├─basin_metadata  #三个数据集的流域年水文气象特征+流域地形特征+测站信息\n",
    "  │      ├─elev_bands_forcing  #4.95GB\n",
    "  │      │  └─daymet\n",
    "  │      ├─hru_forcing  #7.18GB\n",
    "  │      │  └─daymet\n",
    "  │      ├─shapefiles   #18个分区拆分与合并的shp文件\n",
    "  │      │  └─merge\n",
    "  │      └─usgs_streamflow  #18个文件夹的径流数据\n",
    "```"
   ]
  },
  {
   "cell_type": "markdown",
   "id": "fecc1121-a05e-457d-b489-347e6a1f3ca9",
   "metadata": {},
   "source": [
    "## daymet\n",
    "Daymet 数据集提供了每日天气参数的网格估计。每天有 7 个地表天气参数可用，空间分辨率为 1 公里 x 1 公里，空间范围为北美。\n",
    "Daymet V4提供北美大陆、夏威夷和波多黎各的每日天气参数的网格化估计（波多黎各的数据从1950年开始提供）。它是由选定的气象站数据和各种辅助数据来源得出的。\n",
    "\n",
    "\n",
    "\n",
    "## maurer\n",
    "\n",
    "\n",
    "\n",
    "\n",
    "## nldas\n",
    "\n",
    "\n"
   ]
  }
 ],
 "metadata": {
  "kernelspec": {
   "display_name": "hdn",
   "language": "python",
   "name": "hdn"
  },
  "language_info": {
   "codemirror_mode": {
    "name": "ipython",
    "version": 3
   },
   "file_extension": ".py",
   "mimetype": "text/x-python",
   "name": "python",
   "nbconvert_exporter": "python",
   "pygments_lexer": "ipython3",
   "version": "3.12.3"
  }
 },
 "nbformat": 4,
 "nbformat_minor": 5
}
