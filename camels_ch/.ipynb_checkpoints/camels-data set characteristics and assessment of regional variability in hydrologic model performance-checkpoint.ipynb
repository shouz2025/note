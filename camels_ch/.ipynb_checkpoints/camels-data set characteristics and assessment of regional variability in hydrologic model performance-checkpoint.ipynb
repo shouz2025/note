{
 "cells": [
  {
   "cell_type": "markdown",
   "id": "1f29006f-1837-4283-9212-73a1540f9158",
   "metadata": {},
   "source": [
    "# Development of a large-sample watershed-scale hydrometeorological data set for the contiguous USA: data set characteristics and assessment of regional variability in hydrologic model performance.pdf"
   ]
  },
  {
   "cell_type": "markdown",
   "id": "a4d62b8d-702b-48ea-892b-55a944299ad4",
   "metadata": {},
   "source": [
    "[**doi**:10.5194/hess-19-209-2015](https://hess.copernicus.org/articles/19/209/2015/)"
   ]
  },
  {
   "cell_type": "markdown",
   "id": "5839113f-a2e0-49c6-b313-0f50e391ca38",
   "metadata": {},
   "source": [
    "**CDF**:cumulative density functions,[累积密度函数](https://zhuanlan.zhihu.com/p/55419326)。\n",
    "\n",
    "![累积密度函数CDF](pictures/CDF.png)\n",
    "\n",
    "**FDC**:the flow duration curve, [流量历时曲线](https://baike.baidu.com/item/%E6%B5%81%E9%87%8F%E5%8E%86%E6%97%B6%E6%9B%B2%E7%BA%BF/10103805)。参考如下：<br>\n",
    "- [水利工程对坝下径流的影响——以葛洲坝、三峡水利枢纽为例](https://www.ecologica.cn/stxb/ch/html/2018/5/stxb201704070596.htm)<br>\n",
    "- [9  Flow Duration Curves](https://vt-hydroinformatics.github.io/Quarto_Book/09-Flow_Duration_Curves.html)<br>\n"
   ]
  },
  {
   "cell_type": "markdown",
   "id": "366c021c-f145-44d4-a619-141484764002",
   "metadata": {},
   "source": [
    "**USA地理概况**\n",
    "- Rocky Mountains, 落基山脉。<br>\n",
    "- High Plains, 美国大平原。<br>\n",
    "- Appalachian Mountains, 阿巴拉契亚山脉。<br>\n",
    "- Desert SW, 西南沙漠。<br>\n",
    "![](pictures/mountains.png)\n",
    "<br>\n",
    "\n",
    "![](pictures/USAgeo.png)\n",
    "- Pacfic Northwest, 美国太平洋西北地区。<br>\n",
    "- Pacific coast, 太平洋沿岸地区。<br>\n",
    "- Great Basin, 大盆地。<br>\n",
    "- Southwest, 美国西南部。<br>\n",
    "- Rocky Mountains, 落基山脉。<br>\n",
    "- High Plains, 高平原。<br>\n",
    "- Great Plains, 北美大平原。<br>\n",
    "- Mississippi Valley, 密西西比河谷。<br>\n",
    "- Gulf coast, 墨西哥湾沿岸地区。<br>\n",
    "- Great Lacks region, 大湖区。<br>\n",
    "- Ohio Valley, 俄亥俄河谷。<br>\n",
    "- Atlantic coast states, 大西洋沿岸各州。<br>"
   ]
  },
  {
   "cell_type": "code",
   "execution_count": null,
   "id": "c3e8ae0f-1383-4fa4-9d82-ee234fb1cadf",
   "metadata": {},
   "outputs": [],
   "source": []
  }
 ],
 "metadata": {
  "kernelspec": {
   "display_name": "hdn",
   "language": "python",
   "name": "hdn"
  },
  "language_info": {
   "codemirror_mode": {
    "name": "ipython",
    "version": 3
   },
   "file_extension": ".py",
   "mimetype": "text/x-python",
   "name": "python",
   "nbconvert_exporter": "python",
   "pygments_lexer": "ipython3",
   "version": "3.12.3"
  }
 },
 "nbformat": 4,
 "nbformat_minor": 5
}
